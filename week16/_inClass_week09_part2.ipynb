{
 "cells": [
  {
   "cell_type": "markdown",
   "metadata": {},
   "source": [
    "# This is networked data!"
   ]
  },
  {
   "cell_type": "code",
   "execution_count": 1,
   "metadata": {},
   "outputs": [],
   "source": [
    "import bqplot\n",
    "import ipywidgets\n",
    "import pandas as pd\n",
    "%matplotlib inline"
   ]
  },
  {
   "cell_type": "code",
   "execution_count": 2,
   "metadata": {},
   "outputs": [],
   "source": [
    "node_data = [\n",
    "    {\"label\": \"Luke Skywalker\", \"media\": \"Star Wars\", \"shape\": \"rect\"},\n",
    "    {\"label\": \"Jean-Luc Picard\", \"media\": \"Star Trek\", \"shape\": \"rect\"},\n",
    "    {\"label\": \"Doctor Who\", \"media\": \"Doctor Who\", \"shape\": \"rect\"},\n",
    "    {\"label\": \"Pikachu\", \"media\": \"Detective Pikachu\", \"shape\": \"circle\"},\n",
    "]"
   ]
  },
  {
   "cell_type": "code",
   "execution_count": 3,
   "metadata": {},
   "outputs": [
    {
     "data": {
      "text/plain": [
       "[{'label': 'Luke Skywalker', 'media': 'Star Wars', 'shape': 'rect'},\n",
       " {'label': 'Jean-Luc Picard', 'media': 'Star Trek', 'shape': 'rect'},\n",
       " {'label': 'Doctor Who', 'media': 'Doctor Who', 'shape': 'rect'},\n",
       " {'label': 'Pikachu', 'media': 'Detective Pikachu', 'shape': 'circle'}]"
      ]
     },
     "execution_count": 3,
     "metadata": {},
     "output_type": "execute_result"
    }
   ],
   "source": [
    "node_data"
   ]
  },
  {
   "cell_type": "markdown",
   "metadata": {},
   "source": [
    "We'll use bqplot to plot these nodes:"
   ]
  },
  {
   "cell_type": "code",
   "execution_count": 4,
   "metadata": {},
   "outputs": [
    {
     "data": {
      "application/vnd.jupyter.widget-view+json": {
       "model_id": "d23011d96f0046ac83d66072afb0cdd6",
       "version_major": 2,
       "version_minor": 0
      },
      "text/plain": [
       "Figure(fig_margin={'top': 60, 'bottom': 60, 'left': 60, 'right': 60}, marks=[Graph(colors=['red', 'red', 'red'…"
      ]
     },
     "metadata": {},
     "output_type": "display_data"
    }
   ],
   "source": [
    "# marks\n",
    "graph = bqplot.Graph(node_data=node_data, colors=['red', 'red', 'red', 'red'])\n",
    "\n",
    "# put it all together as a figure\n",
    "fig = bqplot.Figure(marks=[graph])\n",
    "fig"
   ]
  },
  {
   "cell_type": "markdown",
   "metadata": {},
   "source": [
    "We want to put links in between our nodes -- we'll put in some random links for now (these don't necessarily make a lot of intuative sense)."
   ]
  },
  {
   "cell_type": "code",
   "execution_count": 5,
   "metadata": {},
   "outputs": [],
   "source": [
    "node_data = [\n",
    "    {\"label\": \"Luke Skywalker\", \"media\": \"Star Wars\", \"shape\": \"rect\"},\n",
    "    {\"label\": \"Jean-Luc Picard\", \"media\": \"Star Trek\", \"shape\": \"rect\"},\n",
    "    {\"label\": \"Doctor Who\", \"media\": \"Doctor Who\", \"shape\": \"rect\"},\n",
    "    {\"label\": \"Pikachu\", \"media\": \"Detective Pikachu\", \"shape\": \"circle\"},\n",
    "]\n",
    "\n",
    "# create links between the 0th (luke skywalker) entry to both the jean-luc picard (1th entry) and \n",
    "#. the 3rd entry (Pikachu)\n",
    "link_data = [{'source': 0, 'target': 1}, {'source': 0, 'target': 3}]"
   ]
  },
  {
   "cell_type": "code",
   "execution_count": 7,
   "metadata": {},
   "outputs": [
    {
     "data": {
      "application/vnd.jupyter.widget-view+json": {
       "model_id": "df3805930194419ca9c088fa745e5ded",
       "version_major": 2,
       "version_minor": 0
      },
      "text/plain": [
       "Figure(fig_margin={'top': 60, 'bottom': 60, 'left': 60, 'right': 60}, marks=[Graph(colors=['red', 'red', 'red'…"
      ]
     },
     "metadata": {},
     "output_type": "display_data"
    }
   ],
   "source": [
    "# marks\n",
    "graph = bqplot.Graph(node_data=node_data, link_data = link_data, \n",
    "                     colors=['red', 'red', 'red', 'red'])\n",
    "\n",
    "# put it all together as a figure\n",
    "fig = bqplot.Figure(marks=[graph])\n",
    "fig"
   ]
  },
  {
   "cell_type": "markdown",
   "metadata": {},
   "source": [
    "Let's play with the link style:"
   ]
  },
  {
   "cell_type": "code",
   "execution_count": 11,
   "metadata": {},
   "outputs": [
    {
     "data": {
      "application/vnd.jupyter.widget-view+json": {
       "model_id": "bc002b9b4ca44e079b923750f589285c",
       "version_major": 2,
       "version_minor": 0
      },
      "text/plain": [
       "Figure(fig_margin={'top': 60, 'bottom': 60, 'left': 60, 'right': 60}, marks=[Graph(colors=['red', 'red', 'red'…"
      ]
     },
     "metadata": {},
     "output_type": "display_data"
    }
   ],
   "source": [
    "# marks\n",
    "graph = bqplot.Graph(node_data=node_data, link_data = link_data, \n",
    "                     colors=['red', 'red', 'red', 'red'])\n",
    "\n",
    "# messing with our link or \"edges\" style\n",
    "graph.link_type = 'line' # instead of curved lines this will be straight lines\n",
    "graph.directed = False # take out arrows\n",
    "\n",
    "# put it all together as a figure\n",
    "fig = bqplot.Figure(marks=[graph])\n",
    "fig"
   ]
  },
  {
   "cell_type": "code",
   "execution_count": 14,
   "metadata": {},
   "outputs": [
    {
     "data": {
      "application/vnd.jupyter.widget-view+json": {
       "model_id": "a814882aa55b40aea928132ac676fdcf",
       "version_major": 2,
       "version_minor": 0
      },
      "text/plain": [
       "Figure(fig_margin={'top': 60, 'bottom': 60, 'left': 60, 'right': 60}, marks=[Graph(charge=-300, colors=['red',…"
      ]
     },
     "metadata": {},
     "output_type": "display_data"
    }
   ],
   "source": [
    "# marks\n",
    "graph = bqplot.Graph(node_data=node_data, link_data = link_data, \n",
    "                     colors=['red', 'red', 'red', 'red'])\n",
    "\n",
    "# messing with our link or \"edges\" style\n",
    "graph.link_type = 'line' # instead of curved lines this will be straight lines\n",
    "graph.directed = False # take out arrows\n",
    "\n",
    "# we can actually mess around with how this simulation is run\n",
    "graph.charge = -300 # -300 is the default, and negative means repulsive force\n",
    "# putting in an attractive force here like 300 is fun, but not visually helpful\n",
    "\n",
    "# put it all together as a figure\n",
    "fig = bqplot.Figure(marks=[graph])\n",
    "fig"
   ]
  },
  {
   "cell_type": "markdown",
   "metadata": {},
   "source": [
    "We can do all our usual bqplot type things, like adding in tool tips to our figures:"
   ]
  },
  {
   "cell_type": "code",
   "execution_count": 15,
   "metadata": {},
   "outputs": [
    {
     "data": {
      "application/vnd.jupyter.widget-view+json": {
       "model_id": "ef278a9ca38947919862f65b4973fde1",
       "version_major": 2,
       "version_minor": 0
      },
      "text/plain": [
       "Figure(fig_margin={'top': 60, 'bottom': 60, 'left': 60, 'right': 60}, marks=[Graph(charge=-300, colors=['red',…"
      ]
     },
     "metadata": {},
     "output_type": "display_data"
    }
   ],
   "source": [
    "# we have a \"media\" tag in our nodes, we can show this with a tooltip\n",
    "tooltip = bqplot.Tooltip(fields=['media'])\n",
    "\n",
    "# marks\n",
    "graph = bqplot.Graph(node_data=node_data, link_data = link_data, \n",
    "                     colors=['red', 'red', 'red', 'red'], \n",
    "                    tooltip=tooltip)\n",
    "\n",
    "# messing with our link or \"edges\" style\n",
    "graph.link_type = 'line' # instead of curved lines this will be straight lines\n",
    "graph.directed = False # take out arrows\n",
    "\n",
    "# we can actually mess around with how this simulation is run\n",
    "graph.charge = -300 # -300 is the default, and negative means repulsive force\n",
    "# putting in an attractive force here like 300 is fun, but not visually helpful\n",
    "\n",
    "# put it all together as a figure\n",
    "fig = bqplot.Figure(marks=[graph])\n",
    "fig"
   ]
  },
  {
   "cell_type": "markdown",
   "metadata": {},
   "source": [
    "We'll now look at some facebook data:"
   ]
  },
  {
   "cell_type": "code",
   "execution_count": 16,
   "metadata": {},
   "outputs": [],
   "source": [
    "filename = 'facebook_combined_sm000030_000000.txt' \n",
    "# this is the 0th (most connected person out of 80k in orig data) to the 30th (most connected in orig. data)\n",
    "\n",
    "network = pd.read_csv('/Users/jillnaiman/Downloads/'+filename, sep=\" \", names=['ind1', 'ind2'])"
   ]
  },
  {
   "cell_type": "code",
   "execution_count": 17,
   "metadata": {},
   "outputs": [
    {
     "data": {
      "text/html": [
       "<div>\n",
       "<style scoped>\n",
       "    .dataframe tbody tr th:only-of-type {\n",
       "        vertical-align: middle;\n",
       "    }\n",
       "\n",
       "    .dataframe tbody tr th {\n",
       "        vertical-align: top;\n",
       "    }\n",
       "\n",
       "    .dataframe thead th {\n",
       "        text-align: right;\n",
       "    }\n",
       "</style>\n",
       "<table border=\"1\" class=\"dataframe\">\n",
       "  <thead>\n",
       "    <tr style=\"text-align: right;\">\n",
       "      <th></th>\n",
       "      <th>ind1</th>\n",
       "      <th>ind2</th>\n",
       "    </tr>\n",
       "  </thead>\n",
       "  <tbody>\n",
       "    <tr>\n",
       "      <th>0</th>\n",
       "      <td>0</td>\n",
       "      <td>1</td>\n",
       "    </tr>\n",
       "    <tr>\n",
       "      <th>1</th>\n",
       "      <td>0</td>\n",
       "      <td>1</td>\n",
       "    </tr>\n",
       "    <tr>\n",
       "      <th>2</th>\n",
       "      <td>0</td>\n",
       "      <td>2</td>\n",
       "    </tr>\n",
       "    <tr>\n",
       "      <th>3</th>\n",
       "      <td>0</td>\n",
       "      <td>3</td>\n",
       "    </tr>\n",
       "    <tr>\n",
       "      <th>4</th>\n",
       "      <td>0</td>\n",
       "      <td>4</td>\n",
       "    </tr>\n",
       "    <tr>\n",
       "      <th>5</th>\n",
       "      <td>0</td>\n",
       "      <td>5</td>\n",
       "    </tr>\n",
       "    <tr>\n",
       "      <th>6</th>\n",
       "      <td>0</td>\n",
       "      <td>6</td>\n",
       "    </tr>\n",
       "    <tr>\n",
       "      <th>7</th>\n",
       "      <td>0</td>\n",
       "      <td>7</td>\n",
       "    </tr>\n",
       "    <tr>\n",
       "      <th>8</th>\n",
       "      <td>0</td>\n",
       "      <td>8</td>\n",
       "    </tr>\n",
       "    <tr>\n",
       "      <th>9</th>\n",
       "      <td>0</td>\n",
       "      <td>9</td>\n",
       "    </tr>\n",
       "    <tr>\n",
       "      <th>10</th>\n",
       "      <td>0</td>\n",
       "      <td>10</td>\n",
       "    </tr>\n",
       "    <tr>\n",
       "      <th>11</th>\n",
       "      <td>0</td>\n",
       "      <td>11</td>\n",
       "    </tr>\n",
       "    <tr>\n",
       "      <th>12</th>\n",
       "      <td>0</td>\n",
       "      <td>12</td>\n",
       "    </tr>\n",
       "    <tr>\n",
       "      <th>13</th>\n",
       "      <td>0</td>\n",
       "      <td>13</td>\n",
       "    </tr>\n",
       "    <tr>\n",
       "      <th>14</th>\n",
       "      <td>0</td>\n",
       "      <td>14</td>\n",
       "    </tr>\n",
       "    <tr>\n",
       "      <th>15</th>\n",
       "      <td>0</td>\n",
       "      <td>15</td>\n",
       "    </tr>\n",
       "    <tr>\n",
       "      <th>16</th>\n",
       "      <td>0</td>\n",
       "      <td>16</td>\n",
       "    </tr>\n",
       "    <tr>\n",
       "      <th>17</th>\n",
       "      <td>0</td>\n",
       "      <td>17</td>\n",
       "    </tr>\n",
       "    <tr>\n",
       "      <th>18</th>\n",
       "      <td>0</td>\n",
       "      <td>18</td>\n",
       "    </tr>\n",
       "    <tr>\n",
       "      <th>19</th>\n",
       "      <td>0</td>\n",
       "      <td>19</td>\n",
       "    </tr>\n",
       "    <tr>\n",
       "      <th>20</th>\n",
       "      <td>0</td>\n",
       "      <td>20</td>\n",
       "    </tr>\n",
       "    <tr>\n",
       "      <th>21</th>\n",
       "      <td>0</td>\n",
       "      <td>21</td>\n",
       "    </tr>\n",
       "    <tr>\n",
       "      <th>22</th>\n",
       "      <td>0</td>\n",
       "      <td>22</td>\n",
       "    </tr>\n",
       "    <tr>\n",
       "      <th>23</th>\n",
       "      <td>0</td>\n",
       "      <td>23</td>\n",
       "    </tr>\n",
       "    <tr>\n",
       "      <th>24</th>\n",
       "      <td>0</td>\n",
       "      <td>24</td>\n",
       "    </tr>\n",
       "    <tr>\n",
       "      <th>25</th>\n",
       "      <td>0</td>\n",
       "      <td>25</td>\n",
       "    </tr>\n",
       "    <tr>\n",
       "      <th>26</th>\n",
       "      <td>0</td>\n",
       "      <td>26</td>\n",
       "    </tr>\n",
       "    <tr>\n",
       "      <th>27</th>\n",
       "      <td>0</td>\n",
       "      <td>27</td>\n",
       "    </tr>\n",
       "    <tr>\n",
       "      <th>28</th>\n",
       "      <td>0</td>\n",
       "      <td>28</td>\n",
       "    </tr>\n",
       "    <tr>\n",
       "      <th>29</th>\n",
       "      <td>0</td>\n",
       "      <td>29</td>\n",
       "    </tr>\n",
       "    <tr>\n",
       "      <th>30</th>\n",
       "      <td>0</td>\n",
       "      <td>30</td>\n",
       "    </tr>\n",
       "    <tr>\n",
       "      <th>31</th>\n",
       "      <td>2</td>\n",
       "      <td>20</td>\n",
       "    </tr>\n",
       "    <tr>\n",
       "      <th>32</th>\n",
       "      <td>3</td>\n",
       "      <td>9</td>\n",
       "    </tr>\n",
       "    <tr>\n",
       "      <th>33</th>\n",
       "      <td>3</td>\n",
       "      <td>25</td>\n",
       "    </tr>\n",
       "    <tr>\n",
       "      <th>34</th>\n",
       "      <td>3</td>\n",
       "      <td>26</td>\n",
       "    </tr>\n",
       "    <tr>\n",
       "      <th>35</th>\n",
       "      <td>7</td>\n",
       "      <td>22</td>\n",
       "    </tr>\n",
       "    <tr>\n",
       "      <th>36</th>\n",
       "      <td>9</td>\n",
       "      <td>21</td>\n",
       "    </tr>\n",
       "    <tr>\n",
       "      <th>37</th>\n",
       "      <td>9</td>\n",
       "      <td>25</td>\n",
       "    </tr>\n",
       "    <tr>\n",
       "      <th>38</th>\n",
       "      <td>9</td>\n",
       "      <td>26</td>\n",
       "    </tr>\n",
       "    <tr>\n",
       "      <th>39</th>\n",
       "      <td>9</td>\n",
       "      <td>30</td>\n",
       "    </tr>\n",
       "    <tr>\n",
       "      <th>40</th>\n",
       "      <td>13</td>\n",
       "      <td>21</td>\n",
       "    </tr>\n",
       "    <tr>\n",
       "      <th>41</th>\n",
       "      <td>13</td>\n",
       "      <td>26</td>\n",
       "    </tr>\n",
       "    <tr>\n",
       "      <th>42</th>\n",
       "      <td>14</td>\n",
       "      <td>20</td>\n",
       "    </tr>\n",
       "    <tr>\n",
       "      <th>43</th>\n",
       "      <td>14</td>\n",
       "      <td>28</td>\n",
       "    </tr>\n",
       "    <tr>\n",
       "      <th>44</th>\n",
       "      <td>16</td>\n",
       "      <td>29</td>\n",
       "    </tr>\n",
       "    <tr>\n",
       "      <th>45</th>\n",
       "      <td>17</td>\n",
       "      <td>19</td>\n",
       "    </tr>\n",
       "    <tr>\n",
       "      <th>46</th>\n",
       "      <td>21</td>\n",
       "      <td>25</td>\n",
       "    </tr>\n",
       "    <tr>\n",
       "      <th>47</th>\n",
       "      <td>21</td>\n",
       "      <td>26</td>\n",
       "    </tr>\n",
       "    <tr>\n",
       "      <th>48</th>\n",
       "      <td>25</td>\n",
       "      <td>26</td>\n",
       "    </tr>\n",
       "  </tbody>\n",
       "</table>\n",
       "</div>"
      ],
      "text/plain": [
       "    ind1  ind2\n",
       "0      0     1\n",
       "1      0     1\n",
       "2      0     2\n",
       "3      0     3\n",
       "4      0     4\n",
       "5      0     5\n",
       "6      0     6\n",
       "7      0     7\n",
       "8      0     8\n",
       "9      0     9\n",
       "10     0    10\n",
       "11     0    11\n",
       "12     0    12\n",
       "13     0    13\n",
       "14     0    14\n",
       "15     0    15\n",
       "16     0    16\n",
       "17     0    17\n",
       "18     0    18\n",
       "19     0    19\n",
       "20     0    20\n",
       "21     0    21\n",
       "22     0    22\n",
       "23     0    23\n",
       "24     0    24\n",
       "25     0    25\n",
       "26     0    26\n",
       "27     0    27\n",
       "28     0    28\n",
       "29     0    29\n",
       "30     0    30\n",
       "31     2    20\n",
       "32     3     9\n",
       "33     3    25\n",
       "34     3    26\n",
       "35     7    22\n",
       "36     9    21\n",
       "37     9    25\n",
       "38     9    26\n",
       "39     9    30\n",
       "40    13    21\n",
       "41    13    26\n",
       "42    14    20\n",
       "43    14    28\n",
       "44    16    29\n",
       "45    17    19\n",
       "46    21    25\n",
       "47    21    26\n",
       "48    25    26"
      ]
     },
     "execution_count": 17,
     "metadata": {},
     "output_type": "execute_result"
    }
   ],
   "source": [
    "network"
   ]
  },
  {
   "cell_type": "markdown",
   "metadata": {},
   "source": [
    "We want to format this dataset into the `node_data` and `link_data` formats we used above."
   ]
  },
  {
   "cell_type": "code",
   "execution_count": 18,
   "metadata": {},
   "outputs": [],
   "source": [
    "node_data = []\n",
    "link_data = []\n",
    "color_data = []\n",
    "\n",
    "maxNet = max([network['ind1'].max(),  network['ind2'].max()])"
   ]
  },
  {
   "cell_type": "code",
   "execution_count": 19,
   "metadata": {},
   "outputs": [
    {
     "data": {
      "text/plain": [
       "30"
      ]
     },
     "execution_count": 19,
     "metadata": {},
     "output_type": "execute_result"
    }
   ],
   "source": [
    "maxNet # just the maximum number of connects, here up to the 30th most connected person"
   ]
  },
  {
   "cell_type": "markdown",
   "metadata": {},
   "source": [
    "First, loop and create list of nodes in the correct format:"
   ]
  },
  {
   "cell_type": "code",
   "execution_count": 20,
   "metadata": {},
   "outputs": [],
   "source": [
    "for i in range(maxNet+1):\n",
    "    node_data.append({\"label\":str(i)})"
   ]
  },
  {
   "cell_type": "markdown",
   "metadata": {},
   "source": [
    "The node creation is simple, but generating links a little more complex:"
   ]
  },
  {
   "cell_type": "code",
   "execution_count": 22,
   "metadata": {},
   "outputs": [],
   "source": [
    "for i in range(len(network)):\n",
    "    source_id = network.iloc[i]['ind1']\n",
    "    target_id = network.iloc[i]['ind2']\n",
    "    # generate links:\n",
    "    link_data.append({'source': source_id, 'target': target_id})"
   ]
  },
  {
   "cell_type": "code",
   "execution_count": 24,
   "metadata": {},
   "outputs": [],
   "source": [
    "#link_data"
   ]
  },
  {
   "cell_type": "markdown",
   "metadata": {},
   "source": [
    "Finally, making all of the color data:"
   ]
  },
  {
   "cell_type": "code",
   "execution_count": 25,
   "metadata": {},
   "outputs": [],
   "source": [
    "for i in range(maxNet+1):\n",
    "    color_data.append('red')"
   ]
  },
  {
   "cell_type": "code",
   "execution_count": 26,
   "metadata": {},
   "outputs": [
    {
     "data": {
      "application/vnd.jupyter.widget-view+json": {
       "model_id": "4f3c56c00d034b83bdb84623d79cffab",
       "version_major": 2,
       "version_minor": 0
      },
      "text/plain": [
       "Figure(fig_margin={'top': 60, 'bottom': 60, 'left': 60, 'right': 60}, marks=[Graph(charge=-300, colors=['red',…"
      ]
     },
     "metadata": {},
     "output_type": "display_data"
    }
   ],
   "source": [
    "# marks\n",
    "graph = bqplot.Graph(node_data=node_data, link_data = link_data, \n",
    "                     colors=color_data)\n",
    "\n",
    "# messing with our link or \"edges\" style\n",
    "graph.link_type = 'line' # instead of curved lines this will be straight lines\n",
    "graph.directed = False # take out arrows\n",
    "\n",
    "# we can actually mess around with how this simulation is run\n",
    "graph.charge = -300 # -300 is the default, and negative means repulsive force\n",
    "# putting in an attractive force here like 300 is fun, but not visually helpful\n",
    "\n",
    "# put it all together as a figure\n",
    "fig = bqplot.Figure(marks=[graph])\n",
    "fig"
   ]
  },
  {
   "cell_type": "markdown",
   "metadata": {},
   "source": [
    "All I'm doing below is changing the size of each circle:"
   ]
  },
  {
   "cell_type": "code",
   "execution_count": 27,
   "metadata": {},
   "outputs": [],
   "source": [
    "node_data = []\n",
    "link_data = []\n",
    "color_data = []\n",
    "\n",
    "maxNet = max([network['ind1'].max(),  network['ind2'].max()])\n",
    "\n",
    "# node data\n",
    "for i in range(maxNet+1):\n",
    "    node_data.append({\"label\":str(i), 'shape_attrs': {'r':8} })\n",
    "    \n",
    "# creating links\n",
    "for i in range(len(network)):\n",
    "    source_id = network.iloc[i]['ind1']\n",
    "    target_id = network.iloc[i]['ind2']\n",
    "    # generate links:\n",
    "    link_data.append({'source': source_id, 'target': target_id})\n",
    "    \n",
    "# creating colors\n",
    "for i in range(maxNet+1):\n",
    "    color_data.append('red')"
   ]
  },
  {
   "cell_type": "code",
   "execution_count": 30,
   "metadata": {},
   "outputs": [
    {
     "data": {
      "application/vnd.jupyter.widget-view+json": {
       "model_id": "a9354c2539be4c1fa143d5e3c19a3e77",
       "version_major": 2,
       "version_minor": 0
      },
      "text/plain": [
       "Figure(fig_margin={'top': 60, 'bottom': 60, 'left': 60, 'right': 60}, marks=[Graph(charge=-100, colors=['red',…"
      ]
     },
     "metadata": {},
     "output_type": "display_data"
    }
   ],
   "source": [
    "# marks\n",
    "graph = bqplot.Graph(node_data=node_data, link_data = link_data, \n",
    "                     colors=color_data)\n",
    "\n",
    "# messing with our link or \"edges\" style\n",
    "graph.link_type = 'line' # instead of curved lines this will be straight lines\n",
    "graph.directed = False # take out arrows\n",
    "# more options\n",
    "graph.link_distance=50\n",
    "\n",
    "# we can actually mess around with how this simulation is run\n",
    "graph.charge = -100 # -300 is the default, and negative means repulsive force\n",
    "# putting in an attractive force here like 300 is fun, but not visually helpful\n",
    "\n",
    "# put it all together as a figure\n",
    "fig = bqplot.Figure(marks=[graph])\n",
    "fig"
   ]
  },
  {
   "cell_type": "markdown",
   "metadata": {},
   "source": [
    "The above is with one \"dominant\" node, what about more connections, loosely connected?"
   ]
  },
  {
   "cell_type": "code",
   "execution_count": 31,
   "metadata": {},
   "outputs": [],
   "source": [
    "filename = 'facebook_combined_sm000090_000010.txt' \n",
    "# this is the 10th (most connected person out of 80k in orig data) to the 90th (most connected in orig. data)\n",
    "\n",
    "network2 = pd.read_csv('/Users/jillnaiman/Downloads/'+filename, sep=\" \", names=['ind1', 'ind2'])"
   ]
  },
  {
   "cell_type": "code",
   "execution_count": 32,
   "metadata": {},
   "outputs": [
    {
     "data": {
      "text/html": [
       "<div>\n",
       "<style scoped>\n",
       "    .dataframe tbody tr th:only-of-type {\n",
       "        vertical-align: middle;\n",
       "    }\n",
       "\n",
       "    .dataframe tbody tr th {\n",
       "        vertical-align: top;\n",
       "    }\n",
       "\n",
       "    .dataframe thead th {\n",
       "        text-align: right;\n",
       "    }\n",
       "</style>\n",
       "<table border=\"1\" class=\"dataframe\">\n",
       "  <thead>\n",
       "    <tr style=\"text-align: right;\">\n",
       "      <th></th>\n",
       "      <th>ind1</th>\n",
       "      <th>ind2</th>\n",
       "    </tr>\n",
       "  </thead>\n",
       "  <tbody>\n",
       "    <tr>\n",
       "      <th>0</th>\n",
       "      <td>10</td>\n",
       "      <td>67</td>\n",
       "    </tr>\n",
       "    <tr>\n",
       "      <th>1</th>\n",
       "      <td>10</td>\n",
       "      <td>67</td>\n",
       "    </tr>\n",
       "    <tr>\n",
       "      <th>2</th>\n",
       "      <td>13</td>\n",
       "      <td>21</td>\n",
       "    </tr>\n",
       "    <tr>\n",
       "      <th>3</th>\n",
       "      <td>13</td>\n",
       "      <td>26</td>\n",
       "    </tr>\n",
       "    <tr>\n",
       "      <th>4</th>\n",
       "      <td>13</td>\n",
       "      <td>56</td>\n",
       "    </tr>\n",
       "    <tr>\n",
       "      <th>...</th>\n",
       "      <td>...</td>\n",
       "      <td>...</td>\n",
       "    </tr>\n",
       "    <tr>\n",
       "      <th>113</th>\n",
       "      <td>73</td>\n",
       "      <td>88</td>\n",
       "    </tr>\n",
       "    <tr>\n",
       "      <th>114</th>\n",
       "      <td>75</td>\n",
       "      <td>85</td>\n",
       "    </tr>\n",
       "    <tr>\n",
       "      <th>115</th>\n",
       "      <td>80</td>\n",
       "      <td>88</td>\n",
       "    </tr>\n",
       "    <tr>\n",
       "      <th>116</th>\n",
       "      <td>82</td>\n",
       "      <td>84</td>\n",
       "    </tr>\n",
       "    <tr>\n",
       "      <th>117</th>\n",
       "      <td>83</td>\n",
       "      <td>84</td>\n",
       "    </tr>\n",
       "  </tbody>\n",
       "</table>\n",
       "<p>118 rows × 2 columns</p>\n",
       "</div>"
      ],
      "text/plain": [
       "     ind1  ind2\n",
       "0      10    67\n",
       "1      10    67\n",
       "2      13    21\n",
       "3      13    26\n",
       "4      13    56\n",
       "..    ...   ...\n",
       "113    73    88\n",
       "114    75    85\n",
       "115    80    88\n",
       "116    82    84\n",
       "117    83    84\n",
       "\n",
       "[118 rows x 2 columns]"
      ]
     },
     "execution_count": 32,
     "metadata": {},
     "output_type": "execute_result"
    }
   ],
   "source": [
    "network2"
   ]
  },
  {
   "cell_type": "code",
   "execution_count": 33,
   "metadata": {},
   "outputs": [],
   "source": [
    "node_data = []\n",
    "link_data = []\n",
    "color_data = []\n",
    "\n",
    "maxNet = max([network2['ind1'].max(),  network2['ind2'].max()])\n",
    "\n",
    "# node data\n",
    "for i in range(maxNet+1):\n",
    "    node_data.append({\"label\":str(i), 'shape_attrs': {'r':8} })\n",
    "    \n",
    "# creating links\n",
    "for i in range(len(network2)):\n",
    "    source_id = network2.iloc[i]['ind1']\n",
    "    target_id = network2.iloc[i]['ind2']\n",
    "    # generate links:\n",
    "    link_data.append({'source': source_id, 'target': target_id})\n",
    "    \n",
    "# creating colors\n",
    "for i in range(maxNet+1):\n",
    "    color_data.append('red')"
   ]
  },
  {
   "cell_type": "code",
   "execution_count": 35,
   "metadata": {},
   "outputs": [
    {
     "data": {
      "application/vnd.jupyter.widget-view+json": {
       "model_id": "8d47dab748d0418796274e611086deb3",
       "version_major": 2,
       "version_minor": 0
      },
      "text/plain": [
       "Figure(fig_margin={'top': 60, 'bottom': 60, 'left': 60, 'right': 60}, layout=Layout(min_height='900px', min_wi…"
      ]
     },
     "metadata": {},
     "output_type": "display_data"
    }
   ],
   "source": [
    "# marks\n",
    "graph = bqplot.Graph(node_data=node_data, link_data = link_data, \n",
    "                     colors=color_data)\n",
    "\n",
    "# messing with our link or \"edges\" style\n",
    "graph.link_type = 'line' # instead of curved lines this will be straight lines\n",
    "graph.directed = False # take out arrows\n",
    "# more options\n",
    "graph.link_distance=50\n",
    "\n",
    "# we can actually mess around with how this simulation is run\n",
    "graph.charge = -100 # -300 is the default, and negative means repulsive force\n",
    "# putting in an attractive force here like 300 is fun, but not visually helpful\n",
    "\n",
    "# put it all together as a figure\n",
    "fig = bqplot.Figure(marks=[graph])\n",
    "\n",
    "# this is a more loosely connected network, so easier to see with larger figure\n",
    "fig.layout.min_width = '1000px'\n",
    "fig.layout.min_height = '900px'\n",
    "fig"
   ]
  },
  {
   "cell_type": "code",
   "execution_count": null,
   "metadata": {},
   "outputs": [],
   "source": []
  }
 ],
 "metadata": {
  "kernelspec": {
   "display_name": "Python 3",
   "language": "python",
   "name": "python3"
  },
  "language_info": {
   "codemirror_mode": {
    "name": "ipython",
    "version": 3
   },
   "file_extension": ".py",
   "mimetype": "text/x-python",
   "name": "python",
   "nbconvert_exporter": "python",
   "pygments_lexer": "ipython3",
   "version": "3.7.6"
  }
 },
 "nbformat": 4,
 "nbformat_minor": 4
}
